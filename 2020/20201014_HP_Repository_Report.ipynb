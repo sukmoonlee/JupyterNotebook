{
  "nbformat": 4,
  "nbformat_minor": 0,
  "metadata": {
    "colab": {
      "name": "HP Repository Report.ipynb",
      "provenance": [],
      "collapsed_sections": [],
      "authorship_tag": "ABX9TyPAvf35rEyL6z5RWHMXa1C5",
      "include_colab_link": true
    },
    "kernelspec": {
      "name": "python3",
      "display_name": "Python 3"
    }
  },
  "cells": [
    {
      "cell_type": "markdown",
      "metadata": {
        "id": "view-in-github",
        "colab_type": "text"
      },
      "source": [
        "<a href=\"https://colab.research.google.com/github/sukmoonlee/JupyterNotebook/blob/main/2020/20201014_HP_Repository_Report.ipynb\" target=\"_parent\"><img src=\"https://colab.research.google.com/assets/colab-badge.svg\" alt=\"Open In Colab\"/></a>"
      ]
    },
    {
      "cell_type": "markdown",
      "metadata": {
        "id": "2MBNUIySNhCK"
      },
      "source": [
        "## HP Repository를 이용한 펌웨어 정보 추출하기"
      ]
    },
    {
      "cell_type": "code",
      "metadata": {
        "id": "O0zRzERYXzG6"
      },
      "source": [
        "%%capture\n",
        "!pip install pandas_read_xml"
      ],
      "execution_count": 1,
      "outputs": []
    },
    {
      "cell_type": "code",
      "metadata": {
        "id": "qP_tjvLWf9Io"
      },
      "source": [
        "import pandas as pd\n",
        "import pandas_read_xml as pdx\n",
        "import datetime"
      ],
      "execution_count": 2,
      "outputs": []
    },
    {
      "cell_type": "markdown",
      "metadata": {
        "id": "QxFtaHBP731I"
      },
      "source": [
        "## Repository에서 정보 추출하기"
      ]
    },
    {
      "cell_type": "code",
      "metadata": {
        "id": "DuTImUttgEzn"
      },
      "source": [
        "def GetRepoInfo(url):\n",
        "  repo_df = pdx.read_xml(url + \"/repodata/repomd.xml\",  ['repomd', 'data'])\n",
        "  primary = url + repo_df[repo_df['@type']=='primary']['location'].values[0]['@href']\n",
        "  !wget \"{primary}\" -O primary.xml.gz &>/dev/null\n",
        "  !gzip -df primary.xml.gz\n",
        "  return pdx.read_xml(\"primary.xml\",  ['metadata', 'package'])"
      ],
      "execution_count": 3,
      "outputs": []
    },
    {
      "cell_type": "code",
      "metadata": {
        "id": "ULi1l5NtL0CC"
      },
      "source": [
        "# # test code\n",
        "\n",
        "# work_df = GetRepoInfo(\"http://downloads.linux.hpe.com/SDR/repo/spp-g7/RHEL/7/x86_64/current/\")\n",
        "# print(\"Package Count : \", len(work_df))\n",
        "# work_df.head(2)"
      ],
      "execution_count": 4,
      "outputs": []
    },
    {
      "cell_type": "code",
      "metadata": {
        "id": "PiFdFXQdNUCE"
      },
      "source": [
        "def InsertArrayDF(df, model, name, arch, time, version, release, location):\n",
        "  global idx_cnt\n",
        "  \n",
        "  df.loc[idx_cnt, 'Model']=model\n",
        "  df.loc[idx_cnt, 'Name']=name\n",
        "  df.loc[idx_cnt, 'Arch']=arch\n",
        "  df.loc[idx_cnt, 'time']=datetime.datetime.fromtimestamp(int(time)).strftime('%Y-%m-%d')\n",
        "  df.loc[idx_cnt, 'version']=version\n",
        "  df.loc[idx_cnt, 'release']=release\n",
        "  df.loc[idx_cnt, 'location']=location\n",
        "  idx_cnt += 1\n",
        "\n",
        "def ExtractSmartArray(work_df, url):\n",
        "  excel = pd.DataFrame()\n",
        "\n",
        "  for idx in work_df.index:\n",
        "    name=work_df.loc[idx, 'name']\n",
        "    if name.find(\"firmware-smartarray\")<0: continue\n",
        "    \n",
        "    arch=work_df.loc[idx, 'arch']\n",
        "    tlist=work_df.loc[idx, 'time'].values()\n",
        "    time=list(tlist)[1]\n",
        "    tlist=work_df.loc[idx, 'version'].values()\n",
        "    version=list(tlist)[1]\n",
        "    release=list(tlist)[2]\n",
        "    summary=work_df.loc[idx, 'summary']\n",
        "    tlist=work_df.loc[idx, 'location'].values()\n",
        "    location=list(tlist)[0]\n",
        "    #print(name, arch, time, version, release, location, summary)\n",
        "\n",
        "    str = summary\n",
        "    str = str.replace(\", and\", \",\")\n",
        "    str = str.replace(\" and\", \",\")\n",
        "    #print(str)\n",
        "\n",
        "    if str[0:11]==\"Smart Array\":\n",
        "      str = str.replace(\"Smart Array\", \"\")\n",
        "      # print(str)\n",
        "\n",
        "    if str.find(\",\")<0:\n",
        "      model = str.replace(\"firmware\", \"\")\n",
        "      #print(model, name, arch, time, version, release, location)\n",
        "      InsertArrayDF(excel, model, name, arch, time, version, release, url + location)\n",
        "    \n",
        "    else:\n",
        "      tlist = str.split(sep=\",\")    \n",
        "      for i in tlist:\n",
        "        model1 = i.strip()\n",
        "        model2 = model1.split(sep=\" \")\n",
        "        model = model2[0]      \n",
        "        #print(model, name, arch, time, version, release, location)\n",
        "        InsertArrayDF(excel, model, name, arch, time, version, release, url + location)\n",
        "\n",
        "  return excel  "
      ],
      "execution_count": 5,
      "outputs": []
    },
    {
      "cell_type": "code",
      "metadata": {
        "id": "YlGJhVEOjF2P"
      },
      "source": [
        "# # test code\n",
        "\n",
        "# idx_cnt = 0\n",
        "# rhel7_gen7_df = GetRepoInfo(\"http://downloads.linux.hpe.com/SDR/repo/spp-g7/RHEL/7/x86_64/current/\")\n",
        "# print(\"Package Count : \", len(rhel7_gen7_df))\n",
        "# result_gen7_df = ExtractSmartArray(rhel7_gen7_df, \"http://downloads.linux.hpe.com/SDR/repo/spp-g7/RHEL/7/x86_64/current/\")\n",
        "# result_gen7_df['Gen']=\"G7\"\n",
        "# print(\"Report Package Count : \", len(result_gen7_df))\n",
        "# result_gen7_df.head(2)"
      ],
      "execution_count": 6,
      "outputs": []
    },
    {
      "cell_type": "markdown",
      "metadata": {
        "id": "wsPCufIDgU00"
      },
      "source": [
        "## 결과 리포트하기"
      ]
    },
    {
      "cell_type": "code",
      "metadata": {
        "id": "EFsZeQJhj9Oo",
        "outputId": "8a43b360-b2ef-460d-e031-5bb0f5269887",
        "colab": {
          "base_uri": "https://localhost:8080/",
          "height": 89
        }
      },
      "source": [
        "url_list = {\n",
        "    \"Gen7\" : \"http://downloads.linux.hpe.com/SDR/repo/spp-g7/RHEL/7/x86_64/current/\",\n",
        "    \"Gen8\" : \"http://downloads.linux.hpe.com/SDR/repo/spp-gen8/RHEL/7/x86_64/current/\",\n",
        "    \"Gen9\" : \"http://downloads.linux.hpe.com/SDR/repo/spp-gen9/RHEL/7/x86_64/current/\",\n",
        "    \"Gen10\" : \"http://downloads.linux.hpe.com/SDR/repo/spp-gen10/RHEL/7/x86_64/current/\",\n",
        "}\n",
        "\n",
        "report = pd.DataFrame()\n",
        "idx_cnt = 0\n",
        "for url_idx in url_list:\n",
        "  #print(url_idx, url_list[url_idx])\n",
        "  df = GetRepoInfo(url_list[url_idx])\n",
        "  print(url_idx, len(df))\n",
        "  result_df = ExtractSmartArray(df, url_list[url_idx])\n",
        "  result_df['Gen']=url_idx\n",
        "\n",
        "  report = pd.concat([report, result_df], ignore_index=True, join='outer')"
      ],
      "execution_count": 7,
      "outputs": [
        {
          "output_type": "stream",
          "text": [
            "Gen7 722\n",
            "Gen8 730\n",
            "Gen9 2222\n",
            "Gen10 2222\n"
          ],
          "name": "stdout"
        }
      ]
    },
    {
      "cell_type": "code",
      "metadata": {
        "id": "80NsAD5ftek-",
        "outputId": "4cad0f25-bb0b-4571-9e3e-f0ececeb9521",
        "colab": {
          "base_uri": "https://localhost:8080/",
          "height": 111
        }
      },
      "source": [
        "report.head(2)"
      ],
      "execution_count": 8,
      "outputs": [
        {
          "output_type": "execute_result",
          "data": {
            "text/html": [
              "<div>\n",
              "<style scoped>\n",
              "    .dataframe tbody tr th:only-of-type {\n",
              "        vertical-align: middle;\n",
              "    }\n",
              "\n",
              "    .dataframe tbody tr th {\n",
              "        vertical-align: top;\n",
              "    }\n",
              "\n",
              "    .dataframe thead th {\n",
              "        text-align: right;\n",
              "    }\n",
              "</style>\n",
              "<table border=\"1\" class=\"dataframe\">\n",
              "  <thead>\n",
              "    <tr style=\"text-align: right;\">\n",
              "      <th></th>\n",
              "      <th>Model</th>\n",
              "      <th>Name</th>\n",
              "      <th>Arch</th>\n",
              "      <th>time</th>\n",
              "      <th>version</th>\n",
              "      <th>release</th>\n",
              "      <th>location</th>\n",
              "      <th>Gen</th>\n",
              "    </tr>\n",
              "  </thead>\n",
              "  <tbody>\n",
              "    <tr>\n",
              "      <th>0</th>\n",
              "      <td>P230i</td>\n",
              "      <td>hp-firmware-smartarray-112204add8</td>\n",
              "      <td>x86_64</td>\n",
              "      <td>2015-03-18</td>\n",
              "      <td>2.40</td>\n",
              "      <td>1.1</td>\n",
              "      <td>http://downloads.linux.hpe.com/SDR/repo/spp-g7...</td>\n",
              "      <td>Gen7</td>\n",
              "    </tr>\n",
              "    <tr>\n",
              "      <th>1</th>\n",
              "      <td>P430</td>\n",
              "      <td>hp-firmware-smartarray-112204add8</td>\n",
              "      <td>x86_64</td>\n",
              "      <td>2015-03-18</td>\n",
              "      <td>2.40</td>\n",
              "      <td>1.1</td>\n",
              "      <td>http://downloads.linux.hpe.com/SDR/repo/spp-g7...</td>\n",
              "      <td>Gen7</td>\n",
              "    </tr>\n",
              "  </tbody>\n",
              "</table>\n",
              "</div>"
            ],
            "text/plain": [
              "   Model  ...   Gen\n",
              "0  P230i  ...  Gen7\n",
              "1   P430  ...  Gen7\n",
              "\n",
              "[2 rows x 8 columns]"
            ]
          },
          "metadata": {
            "tags": []
          },
          "execution_count": 8
        }
      ]
    },
    {
      "cell_type": "code",
      "metadata": {
        "id": "5TY1WW0-rgvy",
        "outputId": "f3f2aabc-ee21-463f-efb0-64eb9ee04fd2",
        "colab": {
          "base_uri": "https://localhost:8080/",
          "height": 204
        }
      },
      "source": [
        "# 특정 모델 확인하기\n",
        "report[ (report['Model']=='P212') & (report['Gen']=='Gen7') ].sort_values(by='time', ascending=False)"
      ],
      "execution_count": 9,
      "outputs": [
        {
          "output_type": "execute_result",
          "data": {
            "text/html": [
              "<div>\n",
              "<style scoped>\n",
              "    .dataframe tbody tr th:only-of-type {\n",
              "        vertical-align: middle;\n",
              "    }\n",
              "\n",
              "    .dataframe tbody tr th {\n",
              "        vertical-align: top;\n",
              "    }\n",
              "\n",
              "    .dataframe thead th {\n",
              "        text-align: right;\n",
              "    }\n",
              "</style>\n",
              "<table border=\"1\" class=\"dataframe\">\n",
              "  <thead>\n",
              "    <tr style=\"text-align: right;\">\n",
              "      <th></th>\n",
              "      <th>Model</th>\n",
              "      <th>Name</th>\n",
              "      <th>Arch</th>\n",
              "      <th>time</th>\n",
              "      <th>version</th>\n",
              "      <th>release</th>\n",
              "      <th>location</th>\n",
              "      <th>Gen</th>\n",
              "    </tr>\n",
              "  </thead>\n",
              "  <tbody>\n",
              "    <tr>\n",
              "      <th>87</th>\n",
              "      <td>P212</td>\n",
              "      <td>hp-firmware-smartarray-14ef73e580</td>\n",
              "      <td>i386</td>\n",
              "      <td>2015-07-10</td>\n",
              "      <td>6.64</td>\n",
              "      <td>2</td>\n",
              "      <td>http://downloads.linux.hpe.com/SDR/repo/spp-g7...</td>\n",
              "      <td>Gen7</td>\n",
              "    </tr>\n",
              "    <tr>\n",
              "      <th>94</th>\n",
              "      <td>P212</td>\n",
              "      <td>hp-firmware-smartarray-14ef73e580</td>\n",
              "      <td>x86_64</td>\n",
              "      <td>2015-07-10</td>\n",
              "      <td>6.64</td>\n",
              "      <td>2</td>\n",
              "      <td>http://downloads.linux.hpe.com/SDR/repo/spp-g7...</td>\n",
              "      <td>Gen7</td>\n",
              "    </tr>\n",
              "    <tr>\n",
              "      <th>40</th>\n",
              "      <td>P212</td>\n",
              "      <td>hp-firmware-smartarray-14ef73e580</td>\n",
              "      <td>i386</td>\n",
              "      <td>2015-03-27</td>\n",
              "      <td>6.64</td>\n",
              "      <td>1.1</td>\n",
              "      <td>http://downloads.linux.hpe.com/SDR/repo/spp-g7...</td>\n",
              "      <td>Gen7</td>\n",
              "    </tr>\n",
              "    <tr>\n",
              "      <th>47</th>\n",
              "      <td>P212</td>\n",
              "      <td>hp-firmware-smartarray-14ef73e580</td>\n",
              "      <td>x86_64</td>\n",
              "      <td>2015-03-27</td>\n",
              "      <td>6.64</td>\n",
              "      <td>1.1</td>\n",
              "      <td>http://downloads.linux.hpe.com/SDR/repo/spp-g7...</td>\n",
              "      <td>Gen7</td>\n",
              "    </tr>\n",
              "    <tr>\n",
              "      <th>6</th>\n",
              "      <td>P212</td>\n",
              "      <td>hp-firmware-smartarray-14ef73e580</td>\n",
              "      <td>x86_64</td>\n",
              "      <td>2015-01-14</td>\n",
              "      <td>6.62</td>\n",
              "      <td>1.1</td>\n",
              "      <td>http://downloads.linux.hpe.com/SDR/repo/spp-g7...</td>\n",
              "      <td>Gen7</td>\n",
              "    </tr>\n",
              "  </tbody>\n",
              "</table>\n",
              "</div>"
            ],
            "text/plain": [
              "   Model  ...   Gen\n",
              "87  P212  ...  Gen7\n",
              "94  P212  ...  Gen7\n",
              "40  P212  ...  Gen7\n",
              "47  P212  ...  Gen7\n",
              "6   P212  ...  Gen7\n",
              "\n",
              "[5 rows x 8 columns]"
            ]
          },
          "metadata": {
            "tags": []
          },
          "execution_count": 9
        }
      ]
    },
    {
      "cell_type": "code",
      "metadata": {
        "id": "h5JqJoF0txBR",
        "outputId": "6ed05ffe-ac11-4dfd-d11e-745faa3f7cfc",
        "colab": {
          "base_uri": "https://localhost:8080/",
          "height": 35
        }
      },
      "source": [
        "# 특정 펌웨어 URL 확인하기\n",
        "print(report.loc[87, 'location'])"
      ],
      "execution_count": 10,
      "outputs": [
        {
          "output_type": "stream",
          "text": [
            "http://downloads.linux.hpe.com/SDR/repo/spp-g7/RHEL/7/x86_64/current/hp-firmware-smartarray-14ef73e580-6.64-2.i386.rpm\n"
          ],
          "name": "stdout"
        }
      ]
    }
  ]
}