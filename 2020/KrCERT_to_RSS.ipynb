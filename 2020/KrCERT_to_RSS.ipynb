{
  "nbformat": 4,
  "nbformat_minor": 0,
  "metadata": {
    "colab": {
      "name": "KrCERT to RSS.ipynb",
      "provenance": [],
      "collapsed_sections": [],
      "toc_visible": true,
      "authorship_tag": "ABX9TyMz574k5fBcFzQdZ0uOVd33",
      "include_colab_link": true
    },
    "kernelspec": {
      "name": "python3",
      "display_name": "Python 3"
    }
  },
  "cells": [
    {
      "cell_type": "markdown",
      "metadata": {
        "id": "view-in-github",
        "colab_type": "text"
      },
      "source": [
        "<a href=\"https://colab.research.google.com/github/sukmoonlee/JupyterNotebook/blob/main/2020/KrCERT_to_RSS.ipynb\" target=\"_parent\"><img src=\"https://colab.research.google.com/assets/colab-badge.svg\" alt=\"Open In Colab\"/></a>"
      ]
    },
    {
      "cell_type": "markdown",
      "metadata": {
        "id": "VVEIuSUGGM2F"
      },
      "source": [
        "## KISA KrCERT 보안공지 to RSS\n",
        " - https://www.krcert.or.kr/data/secNoticeList.do 보안공지를 RSS로 제공\n",
        " "
      ]
    },
    {
      "cell_type": "markdown",
      "metadata": {
        "id": "AlFiFf3yGeBe"
      },
      "source": [
        "### 필요 라이브러리 호출"
      ]
    },
    {
      "cell_type": "code",
      "metadata": {
        "colab": {
          "base_uri": "https://localhost:8080/"
        },
        "id": "Nm4UloAq3LfG",
        "outputId": "82929cec-7ec4-4d3b-a611-2869882e8dd9"
      },
      "source": [
        "!pip install feedgen"
      ],
      "execution_count": 1,
      "outputs": [
        {
          "output_type": "stream",
          "text": [
            "Collecting feedgen\n",
            "\u001b[?25l  Downloading https://files.pythonhosted.org/packages/0b/60/7714c7f1339e063ad2e0964870797610c23191c180fc2713be100cc82d1a/feedgen-0.9.0.tar.gz (217kB)\n",
            "\r\u001b[K     |█▌                              | 10kB 15.9MB/s eta 0:00:01\r\u001b[K     |███                             | 20kB 8.9MB/s eta 0:00:01\r\u001b[K     |████▌                           | 30kB 7.4MB/s eta 0:00:01\r\u001b[K     |██████                          | 40kB 6.0MB/s eta 0:00:01\r\u001b[K     |███████▌                        | 51kB 4.0MB/s eta 0:00:01\r\u001b[K     |█████████                       | 61kB 4.7MB/s eta 0:00:01\r\u001b[K     |██████████▌                     | 71kB 5.0MB/s eta 0:00:01\r\u001b[K     |████████████                    | 81kB 5.0MB/s eta 0:00:01\r\u001b[K     |█████████████▌                  | 92kB 5.2MB/s eta 0:00:01\r\u001b[K     |███████████████                 | 102kB 5.0MB/s eta 0:00:01\r\u001b[K     |████████████████▌               | 112kB 5.0MB/s eta 0:00:01\r\u001b[K     |██████████████████              | 122kB 5.0MB/s eta 0:00:01\r\u001b[K     |███████████████████▌            | 133kB 5.0MB/s eta 0:00:01\r\u001b[K     |█████████████████████           | 143kB 5.0MB/s eta 0:00:01\r\u001b[K     |██████████████████████▌         | 153kB 5.0MB/s eta 0:00:01\r\u001b[K     |████████████████████████        | 163kB 5.0MB/s eta 0:00:01\r\u001b[K     |█████████████████████████▋      | 174kB 5.0MB/s eta 0:00:01\r\u001b[K     |███████████████████████████     | 184kB 5.0MB/s eta 0:00:01\r\u001b[K     |████████████████████████████▋   | 194kB 5.0MB/s eta 0:00:01\r\u001b[K     |██████████████████████████████  | 204kB 5.0MB/s eta 0:00:01\r\u001b[K     |███████████████████████████████▋| 215kB 5.0MB/s eta 0:00:01\r\u001b[K     |████████████████████████████████| 225kB 5.0MB/s \n",
            "\u001b[?25hRequirement already satisfied: lxml in /usr/local/lib/python3.6/dist-packages (from feedgen) (4.2.6)\n",
            "Requirement already satisfied: python-dateutil in /usr/local/lib/python3.6/dist-packages (from feedgen) (2.8.1)\n",
            "Requirement already satisfied: six>=1.5 in /usr/local/lib/python3.6/dist-packages (from python-dateutil->feedgen) (1.15.0)\n",
            "Building wheels for collected packages: feedgen\n",
            "  Building wheel for feedgen (setup.py) ... \u001b[?25l\u001b[?25hdone\n",
            "  Created wheel for feedgen: filename=feedgen-0.9.0-py2.py3-none-any.whl size=44384 sha256=a0819f46b4ad67616b3b4fb3eb933226ec37fc4612b633faaba36ce5eea09eb8\n",
            "  Stored in directory: /root/.cache/pip/wheels/ae/95/5c/d19cc10ed89cfd3bc24e3e8b5da038084ba1c909e959cd5a9e\n",
            "Successfully built feedgen\n",
            "Installing collected packages: feedgen\n",
            "Successfully installed feedgen-0.9.0\n"
          ],
          "name": "stdout"
        }
      ]
    },
    {
      "cell_type": "code",
      "metadata": {
        "id": "lUFNdce5GmD0"
      },
      "source": [
        "import pandas as pd\n",
        "import urllib.request as req\n",
        "from bs4 import BeautifulSoup\n",
        "\n",
        "import datetime\n",
        "from feedgen.feed import FeedGenerator"
      ],
      "execution_count": 2,
      "outputs": []
    },
    {
      "cell_type": "markdown",
      "metadata": {
        "id": "y_chpISQGtsZ"
      },
      "source": [
        "### 공지사항 정보 추출하기"
      ]
    },
    {
      "cell_type": "code",
      "metadata": {
        "id": "-wk3l36LiI2m"
      },
      "source": [
        "url = \"https://www.krcert.or.kr/data/secNoticeList.do\"\n",
        "data = req.urlopen(url).read()\n",
        "soup = BeautifulSoup(data, \"html.parser\")"
      ],
      "execution_count": 3,
      "outputs": []
    },
    {
      "cell_type": "code",
      "metadata": {
        "colab": {
          "base_uri": "https://localhost:8080/",
          "height": 357
        },
        "id": "foYfUdt2smdv",
        "outputId": "7c9c1bf9-ddbf-4679-f50d-fa85b771038b"
      },
      "source": [
        "rss_df = pd.DataFrame()\n",
        "\n",
        "table_rows = soup.select(\"table.basicList > tbody > tr\")\n",
        "for table_row in table_rows:\n",
        "  table_datas = table_row.select(\"td\")\n",
        "\n",
        "  FLAG_CNT=0\n",
        "  for table_data in table_datas:\n",
        "    FLAG_CNT = FLAG_CNT + 1\n",
        "    try:\n",
        "      if FLAG_CNT==1 :\n",
        "        idx = table_data.string.strip()\n",
        "      if FLAG_CNT==2 :\n",
        "        url = \"https://www.krcert.or.kr\" + table_data.select_one('a')['href']\n",
        "        title = table_data.select_one('a').string.strip()       \n",
        "      if FLAG_CNT==5 :\n",
        "        cdate = table_data.string.strip().replace('.','-')\n",
        "    except:\n",
        "      continue\n",
        "  \n",
        "  item_data = req.urlopen(url).read()\n",
        "  item_soup = BeautifulSoup(item_data, \"html.parser\")\n",
        "  try:\n",
        "    content = item_soup.select(\"table.basicView > tbody > tr > td > table > tbody > tr > td\")\n",
        "    article_content = content[0].get_text()\n",
        "  except:\n",
        "    article_content=\"\"\n",
        "\n",
        "  d=pd.DataFrame()\n",
        "  d.loc[idx, 'title'] = title\n",
        "  d.loc[idx, 'link'] = url\n",
        "  d.loc[idx, 'cdate'] = cdate\n",
        "  d.loc[idx, 'descipt'] = article_content\n",
        "  rss_df = rss_df.append(d)\n",
        "\n",
        "rss_df['cdate'] = pd.to_datetime(rss_df['cdate'])\n",
        "rss_df['cdate'] = rss_df['cdate'].dt.tz_localize('Asia/Seoul')\n",
        "rss_df"
      ],
      "execution_count": 4,
      "outputs": [
        {
          "output_type": "execute_result",
          "data": {
            "text/html": [
              "<div>\n",
              "<style scoped>\n",
              "    .dataframe tbody tr th:only-of-type {\n",
              "        vertical-align: middle;\n",
              "    }\n",
              "\n",
              "    .dataframe tbody tr th {\n",
              "        vertical-align: top;\n",
              "    }\n",
              "\n",
              "    .dataframe thead th {\n",
              "        text-align: right;\n",
              "    }\n",
              "</style>\n",
              "<table border=\"1\" class=\"dataframe\">\n",
              "  <thead>\n",
              "    <tr style=\"text-align: right;\">\n",
              "      <th></th>\n",
              "      <th>title</th>\n",
              "      <th>link</th>\n",
              "      <th>cdate</th>\n",
              "      <th>descipt</th>\n",
              "    </tr>\n",
              "  </thead>\n",
              "  <tbody>\n",
              "    <tr>\n",
              "      <th>1406</th>\n",
              "      <td>Xerox DocuShare 보안 업데이트 권고</td>\n",
              "      <td>https://www.krcert.or.kr/data/secNoticeView.do...</td>\n",
              "      <td>2020-12-04 00:00:00+09:00</td>\n",
              "      <td>□ 개요\\r\\n o Xerox 社는 DocuShare 제품에서 발생하는 취약점을 해...</td>\n",
              "    </tr>\n",
              "    <tr>\n",
              "      <th>1405</th>\n",
              "      <td>VMware 제품군 보안 업데이트 권고</td>\n",
              "      <td>https://www.krcert.or.kr/data/secNoticeView.do...</td>\n",
              "      <td>2020-12-04 00:00:00+09:00</td>\n",
              "      <td>□ 개요\\r\\n o VMware 社는 자사 제품에서 발생하는 취약점을 해결한 보안 ...</td>\n",
              "    </tr>\n",
              "    <tr>\n",
              "      <th>1404</th>\n",
              "      <td>Mozilla Thunderbird 보안 업데이트 권고</td>\n",
              "      <td>https://www.krcert.or.kr/data/secNoticeView.do...</td>\n",
              "      <td>2020-12-04 00:00:00+09:00</td>\n",
              "      <td>□ 개요\\r\\n o 모질라 재단은 Thunderbird의 취약점을 해결한 보안 업데...</td>\n",
              "    </tr>\n",
              "    <tr>\n",
              "      <th>1403</th>\n",
              "      <td>Adobe Flash Player 기술지원 종료 관련 보안 주의 권고</td>\n",
              "      <td>https://www.krcert.or.kr/data/secNoticeView.do...</td>\n",
              "      <td>2020-12-02 00:00:00+09:00</td>\n",
              "      <td>□ 개요\\r\\n o 2020년 12월 31일, Adobe 社의 Flash Playe...</td>\n",
              "    </tr>\n",
              "    <tr>\n",
              "      <th>1402</th>\n",
              "      <td>HP Device Manager 취약점 보안 업데이트 권고</td>\n",
              "      <td>https://www.krcert.or.kr/data/secNoticeView.do...</td>\n",
              "      <td>2020-12-01 00:00:00+09:00</td>\n",
              "      <td>□ 개요\\r\\n o HP 社는 자사 제품에서 발생하는 취약점을 해결한 보안 업데이트...</td>\n",
              "    </tr>\n",
              "    <tr>\n",
              "      <th>1401</th>\n",
              "      <td>VMware 제품군 보안 주의 권고</td>\n",
              "      <td>https://www.krcert.or.kr/data/secNoticeView.do...</td>\n",
              "      <td>2020-11-26 00:00:00+09:00</td>\n",
              "      <td>□ 개요\\r\\n o VMware 社는 자사 제품에서 발생하는 취약점 주의 발표 [1...</td>\n",
              "    </tr>\n",
              "    <tr>\n",
              "      <th>1400</th>\n",
              "      <td>Cisco 제품 취약점 보안 업데이트 권고</td>\n",
              "      <td>https://www.krcert.or.kr/data/secNoticeView.do...</td>\n",
              "      <td>2020-11-23 00:00:00+09:00</td>\n",
              "      <td>□ 개요\\r\\n o Cisco社는 자사 제품의 취약점을 해결한 보안 업데이트 공지 ...</td>\n",
              "    </tr>\n",
              "    <tr>\n",
              "      <th>1399</th>\n",
              "      <td>랜섬웨어 감염 확산에 따른 기업 보안점검 권고</td>\n",
              "      <td>https://www.krcert.or.kr/data/secNoticeView.do...</td>\n",
              "      <td>2020-11-22 00:00:00+09:00</td>\n",
              "      <td>□ 개요\\r\\n o 최근 기업 대상 랜섬웨어 감염 및 정보유출 사고가 지속적으로 발...</td>\n",
              "    </tr>\n",
              "    <tr>\n",
              "      <th>1398</th>\n",
              "      <td>위즈베라 통합 보안 설치 프로그램 베라포트(veraport) 보안 업데이트 권고</td>\n",
              "      <td>https://www.krcert.or.kr/data/secNoticeView.do...</td>\n",
              "      <td>2020-11-18 00:00:00+09:00</td>\n",
              "      <td>□ 개요\\r\\n o 위즈베라(Wizvera)社의 통합 보안 설치 프로그램 베라포트(...</td>\n",
              "    </tr>\n",
              "    <tr>\n",
              "      <th>1397</th>\n",
              "      <td>Apple 제품군 보안 업데이트 권고</td>\n",
              "      <td>https://www.krcert.or.kr/data/secNoticeView.do...</td>\n",
              "      <td>2020-11-16 00:00:00+09:00</td>\n",
              "      <td>□ 개요\\r\\n o Apple社는 자사 제품에서 발생하는 취약점을 해결한 보안 업데...</td>\n",
              "    </tr>\n",
              "  </tbody>\n",
              "</table>\n",
              "</div>"
            ],
            "text/plain": [
              "                                             title  ...                                            descipt\n",
              "1406                    Xerox DocuShare 보안 업데이트 권고  ...  □ 개요\\r\\n o Xerox 社는 DocuShare 제품에서 발생하는 취약점을 해...\n",
              "1405                         VMware 제품군 보안 업데이트 권고  ...  □ 개요\\r\\n o VMware 社는 자사 제품에서 발생하는 취약점을 해결한 보안 ...\n",
              "1404                Mozilla Thunderbird 보안 업데이트 권고  ...  □ 개요\\r\\n o 모질라 재단은 Thunderbird의 취약점을 해결한 보안 업데...\n",
              "1403        Adobe Flash Player 기술지원 종료 관련 보안 주의 권고  ...  □ 개요\\r\\n o 2020년 12월 31일, Adobe 社의 Flash Playe...\n",
              "1402              HP Device Manager 취약점 보안 업데이트 권고  ...  □ 개요\\r\\n o HP 社는 자사 제품에서 발생하는 취약점을 해결한 보안 업데이트...\n",
              "1401                           VMware 제품군 보안 주의 권고  ...  □ 개요\\r\\n o VMware 社는 자사 제품에서 발생하는 취약점 주의 발표 [1...\n",
              "1400                       Cisco 제품 취약점 보안 업데이트 권고  ...  □ 개요\\r\\n o Cisco社는 자사 제품의 취약점을 해결한 보안 업데이트 공지 ...\n",
              "1399                     랜섬웨어 감염 확산에 따른 기업 보안점검 권고  ...  □ 개요\\r\\n o 최근 기업 대상 랜섬웨어 감염 및 정보유출 사고가 지속적으로 발...\n",
              "1398  위즈베라 통합 보안 설치 프로그램 베라포트(veraport) 보안 업데이트 권고  ...  □ 개요\\r\\n o 위즈베라(Wizvera)社의 통합 보안 설치 프로그램 베라포트(...\n",
              "1397                          Apple 제품군 보안 업데이트 권고  ...  □ 개요\\r\\n o Apple社는 자사 제품에서 발생하는 취약점을 해결한 보안 업데...\n",
              "\n",
              "[10 rows x 4 columns]"
            ]
          },
          "metadata": {
            "tags": []
          },
          "execution_count": 4
        }
      ]
    },
    {
      "cell_type": "markdown",
      "metadata": {
        "id": "R1Le33B6HCKP"
      },
      "source": [
        "### RSS Feed 만들기"
      ]
    },
    {
      "cell_type": "code",
      "metadata": {
        "id": "KSa2IYNM5MjK"
      },
      "source": [
        "fg = FeedGenerator()\n",
        "fg.id('https://www.krcert.or.kr/data/secNoticeList.do')\n",
        "fg.title('KrCERT 보안공지')\n",
        "fg.author( {'name':'Sukmoon Lee','email':'smlee@sukmoonlee.com'} )\n",
        "fg.link( href='https://www.krcert.or.kr/data/secNoticeList.do', rel='alternate' )\n",
        "fg.subtitle('KrCERT 보안공지 RSS')\n",
        "fg.language('kr')\n",
        "\n",
        "for idx in rss_df.index:\n",
        "  fe = fg.add_entry()\n",
        "  fe.id(idx)\n",
        "  fe.title(rss_df.loc[idx, 'title'])\n",
        "  fe.link(href=rss_df.loc[idx, 'link'])\n",
        "  fe.description(rss_df.loc[idx, 'descipt'])\n",
        "  fe.pubDate(pubDate=rss_df.loc[idx, 'cdate'])"
      ],
      "execution_count": 5,
      "outputs": []
    },
    {
      "cell_type": "code",
      "metadata": {
        "id": "NJvLvSoF4Ljp",
        "colab": {
          "base_uri": "https://localhost:8080/"
        },
        "outputId": "12596fbd-6ade-4e6a-cb96-fa3e691a6d1b"
      },
      "source": [
        "fg.rss_file('krcert_rss.xml', pretty=True) # Write the RSS feed to a file\n",
        "!cat krcert_rss.xml |head"
      ],
      "execution_count": 10,
      "outputs": [
        {
          "output_type": "stream",
          "text": [
            "<?xml version='1.0' encoding='UTF-8'?>\n",
            "<rss xmlns:atom=\"http://www.w3.org/2005/Atom\" xmlns:content=\"http://purl.org/rss/1.0/modules/content/\" version=\"2.0\">\n",
            "  <channel>\n",
            "    <title>KrCERT 보안공지</title>\n",
            "    <link>https://www.krcert.or.kr/data/secNoticeList.do</link>\n",
            "    <description>KrCERT 보안공지 RSS</description>\n",
            "    <docs>http://www.rssboard.org/rss-specification</docs>\n",
            "    <generator>python-feedgen</generator>\n",
            "    <language>kr</language>\n",
            "    <lastBuildDate>Mon, 07 Dec 2020 07:32:35 +0000</lastBuildDate>\n"
          ],
          "name": "stdout"
        }
      ]
    }
  ]
}