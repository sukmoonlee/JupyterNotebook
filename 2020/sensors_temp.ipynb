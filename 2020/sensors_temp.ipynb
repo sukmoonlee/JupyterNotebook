{
  "nbformat": 4,
  "nbformat_minor": 0,
  "metadata": {
    "colab": {
      "name": "20020709_sensors_temp.ipynb",
      "provenance": [],
      "collapsed_sections": [],
      "authorship_tag": "ABX9TyML7wZ5AAlhsqNsYreGpXYt",
      "include_colab_link": true
    },
    "kernelspec": {
      "name": "python3",
      "display_name": "Python 3"
    }
  },
  "cells": [
    {
      "cell_type": "markdown",
      "metadata": {
        "id": "view-in-github",
        "colab_type": "text"
      },
      "source": [
        "<a href=\"https://colab.research.google.com/github/sukmoonlee/JupyterNotebook/blob/main/2020/sensors_temp.ipynb\" target=\"_parent\"><img src=\"https://colab.research.google.com/assets/colab-badge.svg\" alt=\"Open In Colab\"/></a>"
      ]
    },
    {
      "cell_type": "markdown",
      "metadata": {
        "id": "vGy2bKf_1Thc"
      },
      "source": [
        "## 데이타 파일 업로드"
      ]
    },
    {
      "cell_type": "code",
      "metadata": {
        "id": "-fZJ-1gZxSGT"
      },
      "source": [
        "# 데이타 파일 다운로드\n",
        "\n",
        "%%capture\n",
        "!wget https://home.sukmoonlee.com/sensors/202007.log -O data07.log\n",
        "!wget https://home.sukmoonlee.com/sensors/202008.log -O data08.log\n",
        "!wget https://home.sukmoonlee.com/sensors/202009.log -O data09.log\n",
        "!wget https://home.sukmoonlee.com/sensors/202009.log -O data10.log"
      ],
      "execution_count": 1,
      "outputs": []
    },
    {
      "cell_type": "markdown",
      "metadata": {
        "id": "GaSWvDoH1ai4"
      },
      "source": [
        "## 작업을 위한 Colab 준비 (runtime 재시작 필요)"
      ]
    },
    {
      "cell_type": "code",
      "metadata": {
        "id": "Uwqmf33LCMs1"
      },
      "source": [
        "# 한글 폰트 설치\n",
        "# !apt-get install -y fonts-nanum\n",
        "# !ls -al /usr/share/fonts/truetype/nanum/*.ttf\n",
        "# 한국 시간 설정(KST, UTC+9)\n",
        "!rm /etc/localtime\n",
        "!ln -s /usr/share/zoneinfo/Asia/Seoul /etc/localtime"
      ],
      "execution_count": 2,
      "outputs": []
    },
    {
      "cell_type": "code",
      "metadata": {
        "id": "OQvfdCy1olXW"
      },
      "source": [
        "# Colab 사전 준비\n",
        "import pandas as pd\n",
        "import numpy as np\n",
        "import seaborn as sns\n",
        "import matplotlib.pyplot as plt\n",
        "\n",
        "# from matplotlib import font_manager, rc\n",
        "# plt.rcParams['axes.unicode_minus'] = False\n",
        "\n",
        "# path = \"/usr/share/fonts/truetype/nanum/NanumBarunGothic.ttf\"    \n",
        "# font_name = font_manager.FontProperties(fname=path).get_name()\n",
        "# rc('font', family=font_name)\n",
        "# font_manager._rebuild() \n",
        "\n",
        "## 메뉴에서 Runtime --> Restart Runtime 수행 필요 (Runtime을 재시작을 해도 업로드/다운로드 받은 파일은 그대로 유지됨)\n",
        "\n",
        "\n",
        "def smooth_curve(points, factor = 0.9):\n",
        "  \"\"\" 부드러운 곡선 그래프를 사용하기 위해서 데이타를 변형 \"\"\"\n",
        "  smoothed_points = []\n",
        "  for point in points:\n",
        "    if smoothed_points:\n",
        "      previous = smoothed_points[-1]\n",
        "      smoothed_points.append(previous * factor + point * (1 - factor))\n",
        "    else:\n",
        "      smoothed_points.append(point)\n",
        "  return smoothed_points "
      ],
      "execution_count": 3,
      "outputs": []
    },
    {
      "cell_type": "markdown",
      "metadata": {
        "id": "qQusEjmS1rkd"
      },
      "source": [
        "## 분석을 위한 데이타 준비"
      ]
    },
    {
      "cell_type": "code",
      "metadata": {
        "id": "JxcqaT7BJC4i",
        "outputId": "87bccb02-174a-4fec-81ce-c71f279418f6",
        "colab": {
          "base_uri": "https://localhost:8080/",
          "height": 89
        }
      },
      "source": [
        "import glob\n",
        "\n",
        "flist = glob.glob(\"/content/*.log\")\n",
        "for fn in flist :  \n",
        "  print(fn)"
      ],
      "execution_count": 4,
      "outputs": [
        {
          "output_type": "stream",
          "text": [
            "/content/data09.log\n",
            "/content/data10.log\n",
            "/content/data07.log\n",
            "/content/data08.log\n"
          ],
          "name": "stdout"
        }
      ]
    },
    {
      "cell_type": "code",
      "metadata": {
        "id": "01Eet5X1j4rJ",
        "outputId": "541280ec-536b-4f7b-b8d7-10f4b953c4f3",
        "colab": {
          "base_uri": "https://localhost:8080/",
          "height": 450
        }
      },
      "source": [
        "# 데이타 추출하기\n",
        "import subprocess\n",
        "import shlex\n",
        "from datetime import datetime\n",
        "\n",
        "temp_list = list()\n",
        "for fn in flist :\n",
        "\n",
        "  cmd = 'egrep \"Date|temp1\" %s' % fn\n",
        "  proc = subprocess.Popen(shlex.split(cmd),  stdout=subprocess.PIPE, stderr=subprocess.PIPE)  \n",
        "  stdout, stderr = proc.communicate()\n",
        "  lines = stdout.decode().split(\"\\n\")\n",
        "\n",
        "  FLAG_STATE=0\n",
        "  for line in lines:\n",
        "    # print(FLAG_STATE, line)\n",
        "    \n",
        "    if 'Date:' in line:      \n",
        "      FLAG_STATE=2\n",
        "      date1=datetime.strptime(line[6:], \"%Y-%m-%d %H:%M:%S\")\n",
        "      # date1 = line[6:]\n",
        "    elif FLAG_STATE==2:\n",
        "      FLAG_STATE=3\n",
        "      temp1=line[15:19]\n",
        "    elif FLAG_STATE==3:\n",
        "      FLAG_STATE=1\n",
        "      temp2=line[15:19]\n",
        "      line_list = {}\n",
        "      line_list['datetime']=date1\n",
        "      line_list['radeon-pci-0008']=temp1\n",
        "      line_list['k10temp-pci-00c3']=temp2\n",
        "      temp_list.append(line_list)\n",
        "\n",
        "      # print(date1,\"|\",temp1,\"|\",temp2)\n",
        "\n",
        "# 후속 작업1 : datetime을 index로 지정 \n",
        "df = pd.DataFrame(temp_list)\n",
        "df['datetime'] = pd.to_datetime(df['datetime'])\n",
        "df.set_index('datetime', inplace=True)\n",
        "# 후속작업2 : 문자가 아닌 데이타에 대해서 실수로 지정\n",
        "df = df.apply(pd.to_numeric, errors='ignore')\n",
        "df.sort_index(axis=0, ascending=True, inplace=True)\n",
        "df"
      ],
      "execution_count": 5,
      "outputs": [
        {
          "output_type": "execute_result",
          "data": {
            "text/html": [
              "<div>\n",
              "<style scoped>\n",
              "    .dataframe tbody tr th:only-of-type {\n",
              "        vertical-align: middle;\n",
              "    }\n",
              "\n",
              "    .dataframe tbody tr th {\n",
              "        vertical-align: top;\n",
              "    }\n",
              "\n",
              "    .dataframe thead th {\n",
              "        text-align: right;\n",
              "    }\n",
              "</style>\n",
              "<table border=\"1\" class=\"dataframe\">\n",
              "  <thead>\n",
              "    <tr style=\"text-align: right;\">\n",
              "      <th></th>\n",
              "      <th>radeon-pci-0008</th>\n",
              "      <th>k10temp-pci-00c3</th>\n",
              "    </tr>\n",
              "    <tr>\n",
              "      <th>datetime</th>\n",
              "      <th></th>\n",
              "      <th></th>\n",
              "    </tr>\n",
              "  </thead>\n",
              "  <tbody>\n",
              "    <tr>\n",
              "      <th>2020-07-09 20:01:23</th>\n",
              "      <td>60.0</td>\n",
              "      <td>60.0</td>\n",
              "    </tr>\n",
              "    <tr>\n",
              "      <th>2020-07-09 20:01:30</th>\n",
              "      <td>59.0</td>\n",
              "      <td>59.9</td>\n",
              "    </tr>\n",
              "    <tr>\n",
              "      <th>2020-07-09 20:10:01</th>\n",
              "      <td>60.0</td>\n",
              "      <td>60.0</td>\n",
              "    </tr>\n",
              "    <tr>\n",
              "      <th>2020-07-09 20:20:01</th>\n",
              "      <td>60.0</td>\n",
              "      <td>60.1</td>\n",
              "    </tr>\n",
              "    <tr>\n",
              "      <th>2020-07-09 20:30:01</th>\n",
              "      <td>61.0</td>\n",
              "      <td>60.0</td>\n",
              "    </tr>\n",
              "    <tr>\n",
              "      <th>...</th>\n",
              "      <td>...</td>\n",
              "      <td>...</td>\n",
              "    </tr>\n",
              "    <tr>\n",
              "      <th>2020-09-30 23:30:01</th>\n",
              "      <td>57.0</td>\n",
              "      <td>56.6</td>\n",
              "    </tr>\n",
              "    <tr>\n",
              "      <th>2020-09-30 23:40:02</th>\n",
              "      <td>57.0</td>\n",
              "      <td>56.5</td>\n",
              "    </tr>\n",
              "    <tr>\n",
              "      <th>2020-09-30 23:40:02</th>\n",
              "      <td>57.0</td>\n",
              "      <td>56.5</td>\n",
              "    </tr>\n",
              "    <tr>\n",
              "      <th>2020-09-30 23:50:01</th>\n",
              "      <td>58.0</td>\n",
              "      <td>56.5</td>\n",
              "    </tr>\n",
              "    <tr>\n",
              "      <th>2020-09-30 23:50:01</th>\n",
              "      <td>58.0</td>\n",
              "      <td>56.5</td>\n",
              "    </tr>\n",
              "  </tbody>\n",
              "</table>\n",
              "<p>15838 rows × 2 columns</p>\n",
              "</div>"
            ],
            "text/plain": [
              "                     radeon-pci-0008  k10temp-pci-00c3\n",
              "datetime                                              \n",
              "2020-07-09 20:01:23             60.0              60.0\n",
              "2020-07-09 20:01:30             59.0              59.9\n",
              "2020-07-09 20:10:01             60.0              60.0\n",
              "2020-07-09 20:20:01             60.0              60.1\n",
              "2020-07-09 20:30:01             61.0              60.0\n",
              "...                              ...               ...\n",
              "2020-09-30 23:30:01             57.0              56.6\n",
              "2020-09-30 23:40:02             57.0              56.5\n",
              "2020-09-30 23:40:02             57.0              56.5\n",
              "2020-09-30 23:50:01             58.0              56.5\n",
              "2020-09-30 23:50:01             58.0              56.5\n",
              "\n",
              "[15838 rows x 2 columns]"
            ]
          },
          "metadata": {
            "tags": []
          },
          "execution_count": 5
        }
      ]
    },
    {
      "cell_type": "code",
      "metadata": {
        "id": "5SQ4EhKpX5ug",
        "outputId": "1f200311-1197-4def-fc2c-3a035f2a17ea",
        "colab": {
          "base_uri": "https://localhost:8080/",
          "height": 297
        }
      },
      "source": [
        "df.describe()"
      ],
      "execution_count": 6,
      "outputs": [
        {
          "output_type": "execute_result",
          "data": {
            "text/html": [
              "<div>\n",
              "<style scoped>\n",
              "    .dataframe tbody tr th:only-of-type {\n",
              "        vertical-align: middle;\n",
              "    }\n",
              "\n",
              "    .dataframe tbody tr th {\n",
              "        vertical-align: top;\n",
              "    }\n",
              "\n",
              "    .dataframe thead th {\n",
              "        text-align: right;\n",
              "    }\n",
              "</style>\n",
              "<table border=\"1\" class=\"dataframe\">\n",
              "  <thead>\n",
              "    <tr style=\"text-align: right;\">\n",
              "      <th></th>\n",
              "      <th>radeon-pci-0008</th>\n",
              "      <th>k10temp-pci-00c3</th>\n",
              "    </tr>\n",
              "  </thead>\n",
              "  <tbody>\n",
              "    <tr>\n",
              "      <th>count</th>\n",
              "      <td>15838.000000</td>\n",
              "      <td>15838.000000</td>\n",
              "    </tr>\n",
              "    <tr>\n",
              "      <th>mean</th>\n",
              "      <td>59.669782</td>\n",
              "      <td>59.015305</td>\n",
              "    </tr>\n",
              "    <tr>\n",
              "      <th>std</th>\n",
              "      <td>1.666085</td>\n",
              "      <td>1.606071</td>\n",
              "    </tr>\n",
              "    <tr>\n",
              "      <th>min</th>\n",
              "      <td>47.000000</td>\n",
              "      <td>46.000000</td>\n",
              "    </tr>\n",
              "    <tr>\n",
              "      <th>25%</th>\n",
              "      <td>59.000000</td>\n",
              "      <td>58.000000</td>\n",
              "    </tr>\n",
              "    <tr>\n",
              "      <th>50%</th>\n",
              "      <td>60.000000</td>\n",
              "      <td>59.100000</td>\n",
              "    </tr>\n",
              "    <tr>\n",
              "      <th>75%</th>\n",
              "      <td>61.000000</td>\n",
              "      <td>59.900000</td>\n",
              "    </tr>\n",
              "    <tr>\n",
              "      <th>max</th>\n",
              "      <td>67.000000</td>\n",
              "      <td>66.900000</td>\n",
              "    </tr>\n",
              "  </tbody>\n",
              "</table>\n",
              "</div>"
            ],
            "text/plain": [
              "       radeon-pci-0008  k10temp-pci-00c3\n",
              "count     15838.000000      15838.000000\n",
              "mean         59.669782         59.015305\n",
              "std           1.666085          1.606071\n",
              "min          47.000000         46.000000\n",
              "25%          59.000000         58.000000\n",
              "50%          60.000000         59.100000\n",
              "75%          61.000000         59.900000\n",
              "max          67.000000         66.900000"
            ]
          },
          "metadata": {
            "tags": []
          },
          "execution_count": 6
        }
      ]
    },
    {
      "cell_type": "code",
      "metadata": {
        "id": "evRNpFfsRQy4",
        "outputId": "198cfe71-9af0-427d-8e6d-d40d9d17c95e",
        "colab": {
          "base_uri": "https://localhost:8080/",
          "height": 320
        }
      },
      "source": [
        "plt.figure(figsize=(15,5))\n",
        "plt.plot(df)\n",
        "plt.legend(df.columns.values)\n",
        "plt.show()"
      ],
      "execution_count": 7,
      "outputs": [
        {
          "output_type": "display_data",
          "data": {
            "image/png": "[encoded data removed]",
            "text/plain": [
              "<Figure size 1080x360 with 1 Axes>"
            ]
          },
          "metadata": {
            "tags": [],
            "needs_background": "light"
          }
        }
      ]
    }
  ]
}